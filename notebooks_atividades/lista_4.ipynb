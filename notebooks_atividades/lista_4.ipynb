{
  "cells": [
    {
      "cell_type": "markdown",
      "id": "617da3e8-00ae-4de3-9ad5-9a2c6b845553",
      "metadata": {
        "id": "617da3e8-00ae-4de3-9ad5-9a2c6b845553"
      },
      "source": [
        "# Lista de exercícios\n",
        "\n",
        "[![Open In Colab](https://colab.research.google.com/assets/colab-badge.svg)](https://colab.research.google.com/github/caio-c-silva/introducao_programacao/blob/main/notebooks_atividades/lista_4.ipynb)\n",
        "\n",
        "## Instruções:\n",
        "\n",
        "1. Salve uma cópia do notebook\n",
        "2. Renomeie o notebook no seguinte formato: l1_NOME1_NOME2_NOME3.ipynb\n",
        "3. Preencha a célula abaixo com suas informações\n",
        "4. Resolva os exercícios\n",
        "5. Compartilhe o notebook com o email: python.unasp@gmail.com\n",
        "\n",
        "Não esqueça de mandar uma mensagem de notificação com o nome de todos os integrantes do grupo.\n",
        "\n",
        "Somente serão corrigidos notebooks entregues até o prazo deteminado"
      ]
    },
    {
      "cell_type": "markdown",
      "id": "3e843b0b-a3ee-4ad5-9698-17d3a77281e4",
      "metadata": {
        "id": "3e843b0b-a3ee-4ad5-9698-17d3a77281e4"
      },
      "source": [
        "### Aluno 1 \n",
        "\n",
        "**Nome:**\n",
        "\n",
        "**RA:**\n",
        "\n",
        "### Aluno 2\n",
        "\n",
        "**Nome:**\n",
        "\n",
        "**RA:**\n",
        "\n",
        "### Aluno 3\n",
        "\n",
        "**Nome:**\n",
        "\n",
        "**RA:**"
      ]
    },
    {
      "cell_type": "markdown",
      "id": "c3d781dc-27bd-4fbc-9984-5f7e95211845",
      "metadata": {
        "tags": [],
        "id": "c3d781dc-27bd-4fbc-9984-5f7e95211845"
      },
      "source": [
        "## Problema: Calcular a similaridade entre dois textos\n",
        "\n",
        "O objetivo deste projeto é determinar a similaridade entre dois textos, utilizando como base a frequência das palavras presentes em cada um.\n",
        "\n",
        "O programa deve ser construído de forma modular, contendo as seguintes funções:\n",
        "\n",
        "- Uma função para realizar o pré-processamento do texto e criar uma lista que contenha todas as palavras presentes nele.\n",
        "\n",
        "- Uma função para criar o dicionário de frequência das palavras presentes texto.\n",
        "\n",
        "- Uma função para calcular o índice de similaridade entre os dois textos\n",
        "\n",
        "O índice de similaridade deve ser calculado seguindo o seguinte procedimento:\n",
        "\n",
        "1. Procure por uma palavra nos dicionários de frequência (um para cada documento).\n",
        "\n",
        "2. Se ela estiver em ambos, adicione a diferença entre as contagens. Se ela aparecer em apenas um deles, adicione a contagem desse único (efetivamente adicionando a diferença entre a contagem de um dicionário e 0 do outro).\n",
        "\n",
        "3. O índice de similaridade é a divisão entre a diferença total e o número total de palavras em ambos os documentos."
      ]
    },
    {
      "cell_type": "code",
      "source": [
        "def palavras():\n",
        "  a = \"hello world\"\n",
        "  a = a.replace(',', '').replace('.', '')\n",
        "  palavras = a.split(\" \")\n",
        "  return palavras\n",
        "  \n",
        "palavras()"
      ],
      "metadata": {
        "colab": {
          "base_uri": "https://localhost:8080/"
        },
        "id": "awUUSeO24c7h",
        "outputId": "f610e337-7c04-41ae-e5e1-99cb50882de1"
      },
      "id": "awUUSeO24c7h",
      "execution_count": 207,
      "outputs": [
        {
          "output_type": "execute_result",
          "data": {
            "text/plain": [
              "['hello', 'world']"
            ]
          },
          "metadata": {},
          "execution_count": 207
        }
      ]
    },
    {
      "cell_type": "code",
      "source": [
        "resultado = palavras()\n",
        "def const():\n",
        "  dicionario = {}\n",
        "  for palavras in resultado:\n",
        "    if palavras not in dicionario:\n",
        "      dicionario[palavras] = 1\n",
        "    elif palavras in dicionario:\n",
        "      dicionario[palavras] += 1\n",
        "  return dicionario\n",
        "\n",
        "const()"
      ],
      "metadata": {
        "colab": {
          "base_uri": "https://localhost:8080/"
        },
        "id": "CWgMsSHSAiU7",
        "outputId": "b6b87384-dc85-498f-d6dc-44f1facc6805"
      },
      "id": "CWgMsSHSAiU7",
      "execution_count": 211,
      "outputs": [
        {
          "output_type": "execute_result",
          "data": {
            "text/plain": [
              "{'hello': 1, 'world': 1}"
            ]
          },
          "metadata": {},
          "execution_count": 211
        }
      ]
    },
    {
      "cell_type": "code",
      "source": [
        "palavras = \"A primavera chegou e as flores estão desabrochando nos jardins. Os pássaros cantam alegremente enquanto o sol brilha no céu azul. As pessoas saem de casa para aproveitar o clima agradável e se reunir com amigos. É uma época de renovação e beleza, onde a natureza se mostra em todo o seu esplendor.\"\n",
        "palavras2 =  \"O inverno chegou e a neve cobre as paisagens. Os animais se recolhem em suas tocas para se proteger do frio intenso. O vento sopra gelado, e as pessoas se agasalham para enfrentar o clima rigoroso. É uma estação de tranquilidade e contemplação, onde o silêncio domina as montanhas cobertas de branco.\"\n",
        "def similaridade(texto1,texto2):\n",
        "  quantidade = len(palavras())\n",
        "  quantidade2 = len(palavras2())\n",
        "  const(txt1)\n",
        "  valores1 = const.values()\n",
        "  const(txt2)\n",
        "  valores2 = const.values()\n",
        "\n",
        "  diferença = valores1 - valores2\n",
        "\n",
        "  i = 1-diferença/quantidade\n",
        "\n",
        "  return i\n",
        "\n",
        "similaridade(\"teste\")"
      ],
      "metadata": {
        "colab": {
          "base_uri": "https://localhost:8080/",
          "height": 208
        },
        "id": "mlMgUM2d8AR_",
        "outputId": "897d6dd1-46ea-46a9-cfda-c9f0aaa01587"
      },
      "id": "mlMgUM2d8AR_",
      "execution_count": 219,
      "outputs": [
        {
          "output_type": "error",
          "ename": "TypeError",
          "evalue": "ignored",
          "traceback": [
            "\u001b[0;31m---------------------------------------------------------------------------\u001b[0m",
            "\u001b[0;31mTypeError\u001b[0m                                 Traceback (most recent call last)",
            "\u001b[0;32m<ipython-input-219-eddddca3a261>\u001b[0m in \u001b[0;36m<cell line: 17>\u001b[0;34m()\u001b[0m\n\u001b[1;32m     15\u001b[0m   \u001b[0;32mreturn\u001b[0m \u001b[0mi\u001b[0m\u001b[0;34m\u001b[0m\u001b[0;34m\u001b[0m\u001b[0m\n\u001b[1;32m     16\u001b[0m \u001b[0;34m\u001b[0m\u001b[0m\n\u001b[0;32m---> 17\u001b[0;31m \u001b[0msimilaridade\u001b[0m\u001b[0;34m(\u001b[0m\u001b[0;34m\"teste\"\u001b[0m\u001b[0;34m)\u001b[0m\u001b[0;34m\u001b[0m\u001b[0;34m\u001b[0m\u001b[0m\n\u001b[0m",
            "\u001b[0;31mTypeError\u001b[0m: similaridade() missing 1 required positional argument: 'texto2'"
          ]
        }
      ]
    },
    {
      "cell_type": "markdown",
      "id": "cb1f3f50-ed40-421f-a0f0-c189ffdcedb7",
      "metadata": {
        "id": "cb1f3f50-ed40-421f-a0f0-c189ffdcedb7"
      },
      "source": [
        "## Avaliação\n",
        "\n",
        "Para avaliar seu código, utilize os seguintes textos:\n",
        "\n",
        "### Texto 1\n",
        "\n",
        "\"A primavera chegou e as flores estão desabrochando nos jardins. Os pássaros cantam alegremente enquanto o sol brilha no céu azul. As pessoas saem de casa para aproveitar o clima agradável e se reunir com amigos. É uma época de renovação e beleza, onde a natureza se mostra em todo o seu esplendor.\"\n",
        "\n",
        "### Texto 2\n",
        "\n",
        "\"O inverno chegou e a neve cobre as paisagens. Os animais se recolhem em suas tocas para se proteger do frio intenso. O vento sopra gelado, e as pessoas se agasalham para enfrentar o clima rigoroso. É uma estação de tranquilidade e contemplação, onde o silêncio domina as montanhas cobertas de branco.\"\n"
      ]
    },
    {
      "cell_type": "code",
      "execution_count": null,
      "id": "8f387ed1-7bdc-450a-96f7-1ebdb18a9fea",
      "metadata": {
        "id": "8f387ed1-7bdc-450a-96f7-1ebdb18a9fea"
      },
      "outputs": [],
      "source": []
    }
  ],
  "metadata": {
    "kernelspec": {
      "display_name": "Python 3 (ipykernel)",
      "language": "python",
      "name": "python3"
    },
    "language_info": {
      "codemirror_mode": {
        "name": "ipython",
        "version": 3
      },
      "file_extension": ".py",
      "mimetype": "text/x-python",
      "name": "python",
      "nbconvert_exporter": "python",
      "pygments_lexer": "ipython3",
      "version": "3.11.3"
    },
    "colab": {
      "provenance": []
    }
  },
  "nbformat": 4,
  "nbformat_minor": 5
}